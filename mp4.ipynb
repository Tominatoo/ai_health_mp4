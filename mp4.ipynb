{
 "cells": [
  {
   "cell_type": "code",
   "execution_count": 529,
   "metadata": {},
   "outputs": [],
   "source": [
    "import pandas as pd\n",
    "import numpy as np\n",
    "import matplotlib.pyplot as plt\n",
    "import seaborn as sns\n",
    "from sklearn.model_selection import train_test_split\n",
    "from sklearn.metrics import r2_score, mean_squared_error\n",
    "from sklearn.preprocessing import MinMaxScaler\n",
    "from sklearn.neighbors import KNeighborsRegressor\n",
    "from sklearn.linear_model import LinearRegression\n",
    "from sklearn.svm import SVR\n",
    "from sklearn.ensemble import RandomForestRegressor\n",
    "from sklearn.tree import DecisionTreeRegressor\n",
    "from sklearn.ensemble import GradientBoostingRegressor\n",
    "from sklearn.linear_model import SGDRegressor\n",
    "from sklearn.model_selection import GridSearchCV"
   ]
  },
  {
   "cell_type": "code",
   "execution_count": 585,
   "metadata": {},
   "outputs": [],
   "source": [
    "prescrip = pd.read_csv('PRESCRIPTIONS.csv')\n",
    "\n",
    "admiss = pd.read_csv('ADMISSIONS.csv')\n",
    "admiss = admiss.drop(columns=[\"ROW_ID\", \"HADM_ID\", \"HAS_CHARTEVENTS_DATA\",\"EDREGTIME\", \"DEATHTIME\",\n",
    "                              \"ADMITTIME\",\"DISCHTIME\", \"EDOUTTIME\",\"ADMISSION_LOCATION\",\"DISCHARGE_LOCATION\",\n",
    "                              \"DIAGNOSIS\",\"HOSPITAL_EXPIRE_FLAG\"])"
   ]
  },
  {
   "cell_type": "code",
   "execution_count": 586,
   "metadata": {},
   "outputs": [
    {
     "data": {
      "text/plain": [
       "['row_id',\n",
       " 'subject_id',\n",
       " 'hadm_id',\n",
       " 'icustay_id',\n",
       " 'startdate',\n",
       " 'enddate',\n",
       " 'drug_type',\n",
       " 'drug',\n",
       " 'drug_name_poe',\n",
       " 'drug_name_generic',\n",
       " 'formulary_drug_cd',\n",
       " 'gsn',\n",
       " 'ndc',\n",
       " 'prod_strength',\n",
       " 'dose_val_rx',\n",
       " 'dose_unit_rx',\n",
       " 'form_val_disp',\n",
       " 'form_unit_disp',\n",
       " 'route']"
      ]
     },
     "execution_count": 586,
     "metadata": {},
     "output_type": "execute_result"
    }
   ],
   "source": [
    "list(prescrip)"
   ]
  },
  {
   "cell_type": "code",
   "execution_count": 532,
   "metadata": {},
   "outputs": [
    {
     "data": {
      "text/plain": [
       "['subject_id', 'startdate', 'enddate', 'drug', 'dose_val_rx', 'dose_unit_rx']"
      ]
     },
     "execution_count": 532,
     "metadata": {},
     "output_type": "execute_result"
    }
   ],
   "source": [
    "prescrip = prescrip.drop(columns=['drug_type', 'hadm_id', 'icustay_id', 'row_id', 'drug_name_generic',\n",
    "                                  'formulary_drug_cd', 'gsn', 'ndc','form_val_disp', 'form_unit_disp', \n",
    "                                  'route', 'drug_name_poe','prod_strength'])\n",
    "list(prescrip)"
   ]
  },
  {
   "cell_type": "code",
   "execution_count": 533,
   "metadata": {},
   "outputs": [
    {
     "name": "stdout",
     "output_type": "stream",
     "text": [
      "Dataset has 592 number of unique drugs.\n"
     ]
    }
   ],
   "source": [
    "print('Dataset has {} number of unique drugs.'.format(prescrip['drug'].nunique()))"
   ]
  },
  {
   "cell_type": "code",
   "execution_count": 534,
   "metadata": {},
   "outputs": [],
   "source": [
    "prescrip['startdate'] = pd.to_datetime(prescrip['startdate'])\n",
    "prescrip['enddate'] = pd.to_datetime(prescrip['enddate'])\n",
    "# Convert timedelta type into float 'days', 86400 seconds in a day (USED FROM LECTURE)\n",
    "prescrip['prescrip_time'] = (prescrip['enddate'] - prescrip['startdate']).dt.total_seconds()/86400"
   ]
  },
  {
   "cell_type": "code",
   "execution_count": 535,
   "metadata": {},
   "outputs": [
    {
     "data": {
      "text/html": [
       "<div>\n",
       "<style scoped>\n",
       "    .dataframe tbody tr th:only-of-type {\n",
       "        vertical-align: middle;\n",
       "    }\n",
       "\n",
       "    .dataframe tbody tr th {\n",
       "        vertical-align: top;\n",
       "    }\n",
       "\n",
       "    .dataframe thead th {\n",
       "        text-align: right;\n",
       "    }\n",
       "</style>\n",
       "<table border=\"1\" class=\"dataframe\">\n",
       "  <thead>\n",
       "    <tr style=\"text-align: right;\">\n",
       "      <th></th>\n",
       "      <th>startdate</th>\n",
       "      <th>enddate</th>\n",
       "      <th>prescrip_time</th>\n",
       "    </tr>\n",
       "  </thead>\n",
       "  <tbody>\n",
       "    <tr>\n",
       "      <th>0</th>\n",
       "      <td>2146-07-21</td>\n",
       "      <td>2146-07-22</td>\n",
       "      <td>1.0</td>\n",
       "    </tr>\n",
       "    <tr>\n",
       "      <th>1</th>\n",
       "      <td>2146-07-21</td>\n",
       "      <td>2146-07-22</td>\n",
       "      <td>1.0</td>\n",
       "    </tr>\n",
       "    <tr>\n",
       "      <th>2</th>\n",
       "      <td>2146-07-21</td>\n",
       "      <td>2146-07-22</td>\n",
       "      <td>1.0</td>\n",
       "    </tr>\n",
       "    <tr>\n",
       "      <th>3</th>\n",
       "      <td>2146-07-21</td>\n",
       "      <td>2146-07-22</td>\n",
       "      <td>1.0</td>\n",
       "    </tr>\n",
       "    <tr>\n",
       "      <th>4</th>\n",
       "      <td>2146-07-21</td>\n",
       "      <td>2146-07-21</td>\n",
       "      <td>0.0</td>\n",
       "    </tr>\n",
       "  </tbody>\n",
       "</table>\n",
       "</div>"
      ],
      "text/plain": [
       "   startdate    enddate  prescrip_time\n",
       "0 2146-07-21 2146-07-22            1.0\n",
       "1 2146-07-21 2146-07-22            1.0\n",
       "2 2146-07-21 2146-07-22            1.0\n",
       "3 2146-07-21 2146-07-22            1.0\n",
       "4 2146-07-21 2146-07-21            0.0"
      ]
     },
     "execution_count": 535,
     "metadata": {},
     "output_type": "execute_result"
    }
   ],
   "source": [
    "prescrip[['startdate', 'enddate', 'prescrip_time']].head()"
   ]
  },
  {
   "cell_type": "code",
   "execution_count": 536,
   "metadata": {},
   "outputs": [
    {
     "data": {
      "text/plain": [
       "count    10397.000000\n",
       "mean         3.044340\n",
       "std          7.119632\n",
       "min        -17.000000\n",
       "25%          1.000000\n",
       "50%          1.000000\n",
       "75%          3.000000\n",
       "max        103.000000\n",
       "Name: prescrip_time, dtype: float64"
      ]
     },
     "execution_count": 536,
     "metadata": {},
     "output_type": "execute_result"
    }
   ],
   "source": [
    "prescrip['prescrip_time'].describe()"
   ]
  },
  {
   "cell_type": "code",
   "execution_count": 537,
   "metadata": {},
   "outputs": [
    {
     "name": "stdout",
     "output_type": "stream",
     "text": [
      "Less than 0: 39 times\n"
     ]
    },
    {
     "data": {
      "text/html": [
       "<div>\n",
       "<style scoped>\n",
       "    .dataframe tbody tr th:only-of-type {\n",
       "        vertical-align: middle;\n",
       "    }\n",
       "\n",
       "    .dataframe tbody tr th {\n",
       "        vertical-align: top;\n",
       "    }\n",
       "\n",
       "    .dataframe thead th {\n",
       "        text-align: right;\n",
       "    }\n",
       "</style>\n",
       "<table border=\"1\" class=\"dataframe\">\n",
       "  <thead>\n",
       "    <tr style=\"text-align: right;\">\n",
       "      <th></th>\n",
       "      <th>subject_id</th>\n",
       "      <th>startdate</th>\n",
       "      <th>enddate</th>\n",
       "      <th>drug</th>\n",
       "      <th>dose_val_rx</th>\n",
       "      <th>dose_unit_rx</th>\n",
       "      <th>prescrip_time</th>\n",
       "    </tr>\n",
       "  </thead>\n",
       "  <tbody>\n",
       "    <tr>\n",
       "      <th>1252</th>\n",
       "      <td>10124</td>\n",
       "      <td>2192-04-27</td>\n",
       "      <td>2192-04-26</td>\n",
       "      <td>Sodium Chloride 0.9%  Flush</td>\n",
       "      <td>3</td>\n",
       "      <td>ml</td>\n",
       "      <td>-1.0</td>\n",
       "    </tr>\n",
       "    <tr>\n",
       "      <th>1450</th>\n",
       "      <td>10111</td>\n",
       "      <td>2180-01-23</td>\n",
       "      <td>2180-01-22</td>\n",
       "      <td>Prednisone</td>\n",
       "      <td>40</td>\n",
       "      <td>mg</td>\n",
       "      <td>-1.0</td>\n",
       "    </tr>\n",
       "    <tr>\n",
       "      <th>1451</th>\n",
       "      <td>10111</td>\n",
       "      <td>2180-01-24</td>\n",
       "      <td>2180-01-22</td>\n",
       "      <td>Prednisone</td>\n",
       "      <td>30</td>\n",
       "      <td>mg</td>\n",
       "      <td>-2.0</td>\n",
       "    </tr>\n",
       "    <tr>\n",
       "      <th>1624</th>\n",
       "      <td>40601</td>\n",
       "      <td>2184-08-11</td>\n",
       "      <td>2184-08-10</td>\n",
       "      <td>Lisinopril</td>\n",
       "      <td>5</td>\n",
       "      <td>mg</td>\n",
       "      <td>-1.0</td>\n",
       "    </tr>\n",
       "    <tr>\n",
       "      <th>1885</th>\n",
       "      <td>41795</td>\n",
       "      <td>2145-09-10</td>\n",
       "      <td>2145-09-09</td>\n",
       "      <td>PredniSONE</td>\n",
       "      <td>50</td>\n",
       "      <td>mg</td>\n",
       "      <td>-1.0</td>\n",
       "    </tr>\n",
       "  </tbody>\n",
       "</table>\n",
       "</div>"
      ],
      "text/plain": [
       "      subject_id  startdate    enddate                         drug   \n",
       "1252       10124 2192-04-27 2192-04-26  Sodium Chloride 0.9%  Flush  \\\n",
       "1450       10111 2180-01-23 2180-01-22                   Prednisone   \n",
       "1451       10111 2180-01-24 2180-01-22                   Prednisone   \n",
       "1624       40601 2184-08-11 2184-08-10                   Lisinopril   \n",
       "1885       41795 2145-09-10 2145-09-09                   PredniSONE   \n",
       "\n",
       "     dose_val_rx dose_unit_rx  prescrip_time  \n",
       "1252           3           ml           -1.0  \n",
       "1450          40           mg           -1.0  \n",
       "1451          30           mg           -2.0  \n",
       "1624           5           mg           -1.0  \n",
       "1885          50           mg           -1.0  "
      ]
     },
     "execution_count": 537,
     "metadata": {},
     "output_type": "execute_result"
    }
   ],
   "source": [
    "print(\"Less than 0: {} times\".format((prescrip['prescrip_time'] < 0).sum()))\n",
    "\n",
    "prescrip[prescrip['prescrip_time'] < 0].head()"
   ]
  },
  {
   "cell_type": "code",
   "execution_count": 538,
   "metadata": {},
   "outputs": [
    {
     "data": {
      "text/plain": [
       "count    8087.000000\n",
       "mean        3.927909\n",
       "std         7.845725\n",
       "min         1.000000\n",
       "25%         1.000000\n",
       "50%         2.000000\n",
       "75%         4.000000\n",
       "max       103.000000\n",
       "Name: prescrip_time, dtype: float64"
      ]
     },
     "execution_count": 538,
     "metadata": {},
     "output_type": "execute_result"
    }
   ],
   "source": [
    "prescrip['prescrip_time'][prescrip['prescrip_time'] > 0].describe()"
   ]
  },
  {
   "cell_type": "code",
   "execution_count": 539,
   "metadata": {},
   "outputs": [
    {
     "data": {
      "text/plain": [
       "dose_unit_rx\n",
       "mg               4378\n",
       "mL               1849\n",
       "ml               1216\n",
       "mEq               670\n",
       "UNIT              588\n",
       "gm                488\n",
       "TAB               174\n",
       "NEB               153\n",
       "g                 148\n",
       "mcg               140\n",
       "VIAL               75\n",
       "Appl               71\n",
       "PUFF               64\n",
       "mmol               63\n",
       "PKT                56\n",
       "DROP               53\n",
       "BAG                31\n",
       "SYR                28\n",
       "mcg/hr             27\n",
       "CAP                25\n",
       "PTCH               22\n",
       "mg PE              14\n",
       "INH                12\n",
       "in                 10\n",
       "AMP                10\n",
       "LOZ                 7\n",
       "SPRY                6\n",
       "million units       4\n",
       "dose                4\n",
       "TROC                4\n",
       "gtt                 2\n",
       "mcg/h               2\n",
       "UDCUP               2\n",
       "L                   1\n",
       "Enema               1\n",
       "Name: count, dtype: int64"
      ]
     },
     "execution_count": 539,
     "metadata": {},
     "output_type": "execute_result"
    }
   ],
   "source": [
    "prescrip['dose_unit_rx'].value_counts()"
   ]
  },
  {
   "cell_type": "code",
   "execution_count": 540,
   "metadata": {},
   "outputs": [
    {
     "data": {
      "text/plain": [
       "dose_unit_rx\n",
       "mL    1849\n",
       "ml    1216\n",
       "Name: count, dtype: int64"
      ]
     },
     "execution_count": 540,
     "metadata": {},
     "output_type": "execute_result"
    }
   ],
   "source": [
    "prescrip['dose_unit_rx'] = prescrip['dose_unit_rx'][(prescrip['dose_unit_rx'] == 'ml') | (prescrip['dose_unit_rx'] == 'mL')]\n",
    "\n",
    "prescrip['dose_unit_rx'].value_counts()"
   ]
  },
  {
   "cell_type": "code",
   "execution_count": 541,
   "metadata": {},
   "outputs": [
    {
     "name": "stdout",
     "output_type": "stream",
     "text": [
      "drug\n",
      "Potassium Chloride      529\n",
      "D5W                     439\n",
      "0.9% Sodium Chloride    409\n",
      "NS                      362\n",
      "Furosemide              346\n",
      "Insulin                 300\n",
      "Iso-Osmotic Dextrose    265\n",
      "5% Dextrose             256\n",
      "SW                      244\n",
      "Magnesium Sulfate       206\n",
      "Name: count, dtype: int64\n"
     ]
    }
   ],
   "source": [
    "print(prescrip['drug'].value_counts().nlargest(10))\n",
    "prescrip = prescrip[prescrip['drug'] == 'D5W']"
   ]
  },
  {
   "cell_type": "code",
   "execution_count": 546,
   "metadata": {},
   "outputs": [],
   "source": [
    "prescrip['dose_val_rx'] = prescrip['dose_val_rx'].astype(float)"
   ]
  },
  {
   "cell_type": "code",
   "execution_count": 547,
   "metadata": {},
   "outputs": [
    {
     "data": {
      "text/plain": [
       "count     439.000000\n",
       "mean      296.776765\n",
       "std       330.660278\n",
       "min        25.000000\n",
       "25%       100.000000\n",
       "50%       250.000000\n",
       "75%       250.000000\n",
       "max      3000.000000\n",
       "Name: dose_val_rx, dtype: float64"
      ]
     },
     "execution_count": 547,
     "metadata": {},
     "output_type": "execute_result"
    }
   ],
   "source": [
    "prescrip['dose_val_rx'].describe()"
   ]
  },
  {
   "cell_type": "code",
   "execution_count": 548,
   "metadata": {},
   "outputs": [],
   "source": [
    "prescrip = prescrip.drop(columns=['dose_unit_rx', 'startdate', 'enddate'])"
   ]
  },
  {
   "cell_type": "code",
   "execution_count": 549,
   "metadata": {},
   "outputs": [],
   "source": [
    "admiss['subject_id'] = admiss['SUBJECT_ID']\n",
    "admiss = admiss.drop(columns=['SUBJECT_ID'])"
   ]
  },
  {
   "cell_type": "code",
   "execution_count": 504,
   "metadata": {},
   "outputs": [],
   "source": [
    "df = pd.merge(prescrip, admiss, on='subject_id', how='inner')"
   ]
  },
  {
   "cell_type": "code",
   "execution_count": 550,
   "metadata": {},
   "outputs": [
    {
     "data": {
      "text/plain": [
       "['subject_id',\n",
       " 'drug',\n",
       " 'dose_val_rx',\n",
       " 'prescrip_time',\n",
       " 'ADMISSION_TYPE',\n",
       " 'INSURANCE',\n",
       " 'LANGUAGE',\n",
       " 'RELIGION',\n",
       " 'MARITAL_STATUS',\n",
       " 'ETHNICITY']"
      ]
     },
     "execution_count": 550,
     "metadata": {},
     "output_type": "execute_result"
    }
   ],
   "source": [
    "list(df)"
   ]
  },
  {
   "cell_type": "code",
   "execution_count": 506,
   "metadata": {},
   "outputs": [
    {
     "data": {
      "image/png": "[encoded data removed]",
      "text/plain": [
       "<Figure size 1200x800 with 1 Axes>"
      ]
     },
     "metadata": {},
     "output_type": "display_data"
    }
   ],
   "source": [
    "plt.figure(figsize=(12, 8))\n",
    "sns.countplot(data=df, x='drug', hue='ETHNICITY', order=df['drug'].value_counts().head(15).index)\n",
    "plt.title('Drug Type Distribution by Ethnicity')\n",
    "plt.xticks(rotation=90)\n",
    "plt.xlabel('Drug Type')\n",
    "plt.ylabel('Count')\n",
    "plt.legend(title='Ethnicity', bbox_to_anchor=(1.05, 1), loc='upper left')\n",
    "plt.show()\n"
   ]
  },
  {
   "cell_type": "code",
   "execution_count": null,
   "metadata": {},
   "outputs": [
    {
     "data": {
      "text/plain": [
       "ETHNICITY\n",
       "WHITE                     391\n",
       "HISPANIC/LATINO           153\n",
       "OTHER/UNKNOWN              56\n",
       "BLACK/AFRICAN AMERICAN     51\n",
       "ASIAN                      27\n",
       "Name: count, dtype: int64"
      ]
     },
     "execution_count": 552,
     "metadata": {},
     "output_type": "execute_result"
    }
   ],
   "source": [
    "# Compress the number of ethnicity categories (USED FROM LECTURE)\n",
    "df['ETHNICITY'].replace(regex=r'^ASIAN\\D*', value='ASIAN', inplace=True)\n",
    "df['ETHNICITY'].replace(regex=r'^WHITE\\D*', value='WHITE', inplace=True)\n",
    "df['ETHNICITY'].replace(regex=r'^HISPANIC\\D*', value='HISPANIC/LATINO', inplace=True)\n",
    "df['ETHNICITY'].replace(regex=r'^BLACK\\D*', value='BLACK/AFRICAN AMERICAN', inplace=True)\n",
    "df['ETHNICITY'].replace(['UNABLE TO OBTAIN', 'OTHER', 'PATIENT DECLINED TO ANSWER',\n",
    "                         'UNKNOWN/NOT SPECIFIED'], value='OTHER/UNKNOWN', inplace=True)\n",
    "df['ETHNICITY'].loc[~df['ETHNICITY'].isin(df['ETHNICITY'].value_counts().nlargest(5).index.tolist())] = 'OTHER/UNKNOWN'\n",
    "df['ETHNICITY'].value_counts()"
   ]
  },
  {
   "cell_type": "code",
   "execution_count": 553,
   "metadata": {},
   "outputs": [
    {
     "name": "stdout",
     "output_type": "stream",
     "text": [
      "RELIGION\n",
      "CATHOLIC               309\n",
      "OTHER/UNKNOWN          258\n",
      "JEWISH                  72\n",
      "PROTESTANT QUAKER       30\n",
      "CHRISTIAN SCIENTIST      4\n",
      "MUSLIM                   4\n",
      "BUDDHIST                 1\n",
      "Name: count, dtype: int64\n",
      "\n",
      "AFTER:\n",
      "RELIGION\n",
      "CATHOLIC               309\n",
      "OTHER/UNKNOWN          258\n",
      "JEWISH                  72\n",
      "PROTESTANT QUAKER       30\n",
      "CHRISTIAN SCIENTIST      4\n",
      "MUSLIM                   4\n",
      "BUDDHIST                 1\n",
      "Name: count, dtype: int64\n"
     ]
    }
   ],
   "source": [
    "print(df['RELIGION'].value_counts())\n",
    "# Condense all unkown or unobtainable values\n",
    "# to this unknown tag. \n",
    "df['RELIGION'].replace(['UNOBTAINABLE', 'NOT SPECIFIED', 'OTHER'], \n",
    "                       value='OTHER/UNKNOWN', inplace=True)\n",
    "print(\"\\nAFTER:\")\n",
    "print(df['RELIGION'].value_counts())"
   ]
  },
  {
   "cell_type": "code",
   "execution_count": 554,
   "metadata": {},
   "outputs": [
    {
     "name": "stdout",
     "output_type": "stream",
     "text": [
      "INSURANCE\n",
      "Medicare    552\n",
      "Private      98\n",
      "Medicaid     27\n",
      "Name: count, dtype: int64\n",
      "\n",
      "AFTER:\n"
     ]
    },
    {
     "data": {
      "text/plain": [
       "INSURANCE\n",
       "Medicare    552\n",
       "Private      98\n",
       "Medicaid     27\n",
       "Name: count, dtype: int64"
      ]
     },
     "execution_count": 554,
     "metadata": {},
     "output_type": "execute_result"
    }
   ],
   "source": [
    "print(df['INSURANCE'].value_counts())\n",
    "df['INSURANCE'] = df['INSURANCE'][df['INSURANCE'] != 'Government']\n",
    "print(\"\\nAFTER:\")\n",
    "df['INSURANCE'].value_counts()"
   ]
  },
  {
   "cell_type": "code",
   "execution_count": 555,
   "metadata": {},
   "outputs": [
    {
     "name": "stdout",
     "output_type": "stream",
     "text": [
      "MARITAL_STATUS\n",
      "MARRIED              338\n",
      "SINGLE                95\n",
      "WIDOWED               88\n",
      "UNKNOWN (DEFAULT)     46\n",
      "DIVORCED              31\n",
      "Name: count, dtype: int64\n",
      "\n",
      "AFTER:\n",
      "MARITAL_STATUS\n",
      "MARRIED              338\n",
      "SINGLE                95\n",
      "WIDOWED               88\n",
      "UNKNOWN (DEFAULT)     46\n",
      "DIVORCED              31\n",
      "Name: count, dtype: int64\n"
     ]
    }
   ],
   "source": [
    "print(df['MARITAL_STATUS'].value_counts())\n",
    "df['MARITAL_STATUS'].replace(['DIVORCED', 'SEPARATED'], value='DIVORCED', inplace=True)\n",
    "print(\"\\nAFTER:\")\n",
    "print(df['MARITAL_STATUS'].value_counts())"
   ]
  },
  {
   "cell_type": "code",
   "execution_count": 556,
   "metadata": {},
   "outputs": [
    {
     "name": "stdout",
     "output_type": "stream",
     "text": [
      "INSURANCE\n",
      "Medicare    552\n",
      "Private      98\n",
      "Medicaid     27\n",
      "Name: count, dtype: int64\n",
      "LANGUAGE\n",
      "SPAN    150\n",
      "ENGL    129\n",
      "RUSS     32\n",
      "MAND     26\n",
      "Name: count, dtype: int64\n",
      "ADMISSION_TYPE\n",
      "EMERGENCY    665\n",
      "ELECTIVE      11\n",
      "URGENT         2\n",
      "Name: count, dtype: int64\n"
     ]
    }
   ],
   "source": [
    "print(df['INSURANCE'].value_counts())\n",
    "\n",
    "print(df['LANGUAGE'].value_counts())\n",
    "\n",
    "print(df['ADMISSION_TYPE'].value_counts())"
   ]
  },
  {
   "cell_type": "code",
   "execution_count": 557,
   "metadata": {},
   "outputs": [
    {
     "data": {
      "text/plain": [
       "['subject_id',\n",
       " 'drug',\n",
       " 'dose_val_rx',\n",
       " 'prescrip_time',\n",
       " 'ADMISSION_TYPE',\n",
       " 'INSURANCE',\n",
       " 'LANGUAGE',\n",
       " 'RELIGION',\n",
       " 'MARITAL_STATUS',\n",
       " 'ETHNICITY']"
      ]
     },
     "execution_count": 557,
     "metadata": {},
     "output_type": "execute_result"
    }
   ],
   "source": [
    "list(df)"
   ]
  },
  {
   "cell_type": "code",
   "execution_count": 558,
   "metadata": {},
   "outputs": [],
   "source": [
    "encoded_df = df.drop(columns=['subject_id', 'drug', 'prescrip_time'])\n",
    "\n",
    "\n",
    "encoded_df = pd.get_dummies(encoded_df, columns=['ADMISSION_TYPE', 'INSURANCE',\n",
    "                                                'LANGUAGE', 'RELIGION', 'MARITAL_STATUS', 'ETHNICITY'])\n"
   ]
  },
  {
   "cell_type": "code",
   "execution_count": 559,
   "metadata": {},
   "outputs": [
    {
     "data": {
      "text/plain": [
       "['dose_val_rx',\n",
       " 'ADMISSION_TYPE_ELECTIVE',\n",
       " 'ADMISSION_TYPE_EMERGENCY',\n",
       " 'ADMISSION_TYPE_URGENT',\n",
       " 'INSURANCE_Medicaid',\n",
       " 'INSURANCE_Medicare',\n",
       " 'INSURANCE_Private',\n",
       " 'LANGUAGE_ENGL',\n",
       " 'LANGUAGE_MAND',\n",
       " 'LANGUAGE_RUSS',\n",
       " 'LANGUAGE_SPAN',\n",
       " 'RELIGION_BUDDHIST',\n",
       " 'RELIGION_CATHOLIC',\n",
       " 'RELIGION_CHRISTIAN SCIENTIST',\n",
       " 'RELIGION_JEWISH',\n",
       " 'RELIGION_MUSLIM',\n",
       " 'RELIGION_OTHER/UNKNOWN',\n",
       " 'RELIGION_PROTESTANT QUAKER',\n",
       " 'MARITAL_STATUS_DIVORCED',\n",
       " 'MARITAL_STATUS_MARRIED',\n",
       " 'MARITAL_STATUS_SINGLE',\n",
       " 'MARITAL_STATUS_UNKNOWN (DEFAULT)',\n",
       " 'MARITAL_STATUS_WIDOWED',\n",
       " 'ETHNICITY_ASIAN',\n",
       " 'ETHNICITY_BLACK/AFRICAN AMERICAN',\n",
       " 'ETHNICITY_HISPANIC/LATINO',\n",
       " 'ETHNICITY_OTHER/UNKNOWN',\n",
       " 'ETHNICITY_WHITE']"
      ]
     },
     "execution_count": 559,
     "metadata": {},
     "output_type": "execute_result"
    }
   ],
   "source": [
    "list(encoded_df)"
   ]
  },
  {
   "cell_type": "code",
   "execution_count": 560,
   "metadata": {},
   "outputs": [],
   "source": [
    "encoded_df.dropna(inplace=True)\n",
    "dose = encoded_df['dose_val_rx']\n",
    "features = encoded_df.drop(columns=['dose_val_rx'])"
   ]
  },
  {
   "cell_type": "code",
   "execution_count": 562,
   "metadata": {},
   "outputs": [
    {
     "name": "stdout",
     "output_type": "stream",
     "text": [
      "Training set has 542 samples.\n",
      "Testing set has 136 samples.\n"
     ]
    }
   ],
   "source": [
    "# Split into train 80% and test 20% (USED FROM LECTURE!)\n",
    "X_train, X_test, y_train, y_test = train_test_split(features,\n",
    "                                                    dose,\n",
    "                                                    test_size = .20,\n",
    "                                                    random_state = 0)\n",
    "\n",
    "# Show the results of the split\n",
    "print(\"Training set has {} samples.\".format(X_train.shape[0]))\n",
    "print(\"Testing set has {} samples.\".format(X_test.shape[0]))"
   ]
  },
  {
   "cell_type": "code",
   "execution_count": 566,
   "metadata": {},
   "outputs": [
    {
     "name": "stdout",
     "output_type": "stream",
     "text": [
      "SGDRegressor done.\n",
      "GradientBoostingRegressor done.\n",
      "KNeighborsRegressor done.\n",
      "RandomForestRegressor done.\n"
     ]
    }
   ],
   "source": [
    "#USED FROM LECTURE\n",
    "models = [SGDRegressor(random_state = 0),\n",
    "          GradientBoostingRegressor(random_state = 0),\n",
    "          KNeighborsRegressor(),\n",
    "          RandomForestRegressor(random_state = 0)]\n",
    "\n",
    "results = {}\n",
    "\n",
    "for model in models:\n",
    "\n",
    "    # Instantiate and fit Regressor Model\n",
    "    reg_model = model\n",
    "    reg_model.fit(X_train, y_train)\n",
    "\n",
    "    # Make predictions with model\n",
    "    y_test_preds = reg_model.predict(X_test)\n",
    "\n",
    "    # Grab model name and store results associated with model\n",
    "    name = str(model).split(\"(\")[0]\n",
    "\n",
    "    results[name] = r2_score(y_test, y_test_preds)\n",
    "    print('{} done.'.format(name))"
   ]
  },
  {
   "cell_type": "code",
   "execution_count": 567,
   "metadata": {},
   "outputs": [
    {
     "name": "stdout",
     "output_type": "stream",
     "text": [
      "{'SGDRegressor': 0.018197901106408287, 'GradientBoostingRegressor': 0.0419978879960724, 'KNeighborsRegressor': -0.11780238440164337, 'RandomForestRegressor': 0.03325955161368188}\n"
     ]
    }
   ],
   "source": [
    "print(results)"
   ]
  },
  {
   "cell_type": "code",
   "execution_count": 568,
   "metadata": {},
   "outputs": [
    {
     "data": {
      "text/plain": [
       "Text(0.5, 1.0, 'Comparison of Regression Models')"
      ]
     },
     "execution_count": 568,
     "metadata": {},
     "output_type": "execute_result"
    },
    {
     "data": {
      "image/png": "[encoded data removed]",
      "text/plain": [
       "<Figure size 640x480 with 1 Axes>"
      ]
     },
     "metadata": {},
     "output_type": "display_data"
    }
   ],
   "source": [
    "# R2 score results (USED FROM LECTURE)\n",
    "fig, ax = plt.subplots()\n",
    "ind = range(len(results))\n",
    "ax.barh(ind, list(results.values()), align='center',\n",
    "        color = '#55a868', alpha=0.8)\n",
    "ax.set_yticks(ind)\n",
    "ax.set_yticklabels(results.keys())\n",
    "ax.set_xlabel('R-squared score')\n",
    "ax.tick_params(left=False, top=False, right=False)\n",
    "ax.set_title('Comparison of Regression Models')\n",
    "#fig.savefig('images/compare_models.png', bbox_inches = 'tight')"
   ]
  },
  {
   "cell_type": "code",
   "execution_count": null,
   "metadata": {},
   "outputs": [
    {
     "name": "stdout",
     "output_type": "stream",
     "text": [
      "R2 score is: 0.041998\n"
     ]
    }
   ],
   "source": [
    "#USED FROM LECTURE\n",
    "reg_model = GradientBoostingRegressor(random_state=0)\n",
    "reg_model.fit(X_train, y_train)\n",
    "y_test_preds = reg_model.predict(X_test)\n",
    "r2_not_refined = r2_score(y_test, y_test_preds)\n",
    "print(\"R2 score is: {:2f}\".format(r2_not_refined))"
   ]
  },
  {
   "cell_type": "code",
   "execution_count": 584,
   "metadata": {},
   "outputs": [
    {
     "name": "stdout",
     "output_type": "stream",
     "text": [
      "-0.0030166755084581665\n",
      "GradientBoostingRegressor(max_depth=2, n_estimators=10)\n"
     ]
    }
   ],
   "source": [
    "#USED FROM LECTURE\n",
    "\n",
    "X_train, X_test, y_train, y_test = train_test_split(features,\n",
    "                                                    dose,\n",
    "                                                    test_size = .20,\n",
    "                                                    random_state = 42)\n",
    "\n",
    "# Set the parameters by cross-validation\n",
    "#tuned_parameters = [{'n_estimators': [100, 200, 300],\n",
    "#                     'max_depth' : [2, 3, 4],\n",
    "#                     'loss': ['ls', 'lad', 'huber']}]\n",
    "tuned_parameters = [{'n_estimators': [10,20,30,40,50,60,70,80,90,100,200,300],\n",
    "                     'max_depth' : [1,2,3,4,5],\n",
    "                     'loss': ['squared_error', 'absolute_error']}]\n",
    "\n",
    "# create and fit a ridge regression model, testing each alpha\n",
    "reg_model = GradientBoostingRegressor()\n",
    "grid = GridSearchCV(reg_model, tuned_parameters)\n",
    "grid.fit(X_train, y_train)\n",
    "reg_model_optimized = grid.best_estimator_\n",
    "\n",
    "# summarize the results of the grid search\n",
    "print(grid.best_score_)\n",
    "print(grid.best_estimator_)"
   ]
  },
  {
   "cell_type": "code",
   "execution_count": null,
   "metadata": {},
   "outputs": [],
   "source": []
  }
 ],
 "metadata": {
  "kernelspec": {
   "display_name": "Python 3",
   "language": "python",
   "name": "python3"
  },
  "language_info": {
   "codemirror_mode": {
    "name": "ipython",
    "version": 3
   },
   "file_extension": ".py",
   "mimetype": "text/x-python",
   "name": "python",
   "nbconvert_exporter": "python",
   "pygments_lexer": "ipython3",
   "version": "3.11.2"
  }
 },
 "nbformat": 4,
 "nbformat_minor": 2
}
